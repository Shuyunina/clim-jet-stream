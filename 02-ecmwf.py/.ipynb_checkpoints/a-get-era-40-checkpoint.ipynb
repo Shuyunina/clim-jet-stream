{
 "cells": [
  {
   "cell_type": "code",
   "execution_count": 2,
   "metadata": {
    "collapsed": true
   },
   "outputs": [],
   "source": [
    "#!/usr/bin/env py27\n",
    "from ecmwfapi import ECMWFDataServer\n",
    "\n",
    "server = ECMWFDataServer()\n",
    "\n",
    "server.retrieve({\n",
    "    'stream'    : \"oper\",\n",
    "    'levelist'  : \"1/2/3/5/7/10/20/30/50/70/100/150/200/250/300/400/500/600/700/775/850/925/1000\",\n",
    "    'levtype'   : \"pl\",\n",
    "    'param'     : \"130.128/131.128/132.128/157.128\",\n",
    "    'dataset'   : \"era40\",\n",
    "    'step'      : \"0\",\n",
    "    'time'      : \"00/06/12/18\",\n",
    "    'date'      : \"2002-08-01/to/2002-08-31\",\n",
    "    'type'      : \"an\",\n",
    "    'class'     : \"e4\",\n",
    "    'target'    : \"era40_2002-08-01to2002-08-31_00061218.grib\"\n",
    "})\n",
    "\n",
    "server.retrieve({\n",
    "    'class'     : \"e4\"\n",
    "    'dataset'   : \"era40\",\n",
    "    'date'      : \"2002-08-01/to/2002-08-31\",\n",
    "    'time'      : \"00/06/12/18\",\n",
    "    'step'      : \"0\",\n",
    "    'type'      : \"an\",\n",
    "    'levtype'   : \"pl\",\n",
    "    'levelist'  : \"\"\n",
    "    'param'     : \"129.128/130.128/131.128/132.128/135.128/155.128\",\n",
    "    'grid'      : \"0.75/0.75\",\n",
    "    'target'    : \"interim201309.nc\",\n",
    "    'format'    : \"netcdf\",\n",
    "    })"
   ]
  }
 ],
 "metadata": {
  "anaconda-cloud": {},
  "kernelspec": {
   "display_name": "Python [conda env:py27]",
   "language": "python",
   "name": "conda-env-py27-py"
  },
  "language_info": {
   "codemirror_mode": {
    "name": "ipython",
    "version": 2
   },
   "file_extension": ".py",
   "mimetype": "text/x-python",
   "name": "python",
   "nbconvert_exporter": "python",
   "pygments_lexer": "ipython2",
   "version": "2.7.12"
  }
 },
 "nbformat": 4,
 "nbformat_minor": 1
}
