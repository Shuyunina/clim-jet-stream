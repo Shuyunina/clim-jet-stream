{
 "cells": [
  {
   "cell_type": "code",
   "execution_count": null,
   "metadata": {
    "collapsed": false
   },
   "outputs": [],
   "source": []
  },
  {
   "cell_type": "code",
   "execution_count": null,
   "metadata": {
    "collapsed": false
   },
   "outputs": [],
   "source": [
    "import numpy as np\n",
    "import datetime as dt\n",
    "import calendar\n",
    "\n",
    "dir = \"01-data-raw/\"\n",
    "\n",
    "date_first_start = dt.date(1958, 1, 1)\n",
    "date_first_end = dt.date(1958, 1, 31)\n",
    "date_last_end = dt.date(1978, 12, 1)\n",
    "date_last_end = dt.date(1978, 12, 31)\n",
    "\n",
    "year_first = 1958\n",
    "year_last = 1978\n",
    "\n",
    "years_vec = np.arange(year_first, (year_last + 1))\n",
    "months_vec = np.arange(1, 13)\n",
    "\n",
    "\n",
    "for i in range(len(years_vec)):\n",
    "    for ii in range(len(months_vec)):\n",
    "        date_loop_start = dt.date(years_vec[i], months_vec[ii], 1)\n",
    "        month_len = calendar.monthrange(years_vec[i], months_vec[ii])[1]\n",
    "        date_loop_end = dt.date(years_vec[i], months_vec[ii], month_len)\n",
    "        date_loop = str(date_loop_start)+'/to/'+str(date_loop_end)\n",
    "        target_loop = dir+str(date_loop_start.year)+'-'+str(date_loop_start.month)+'-era40.nc'\n",
    "        \n",
    "        \n",
    "        print(date_loop)\n",
    "        print(target_loop)\n",
    "\n",
    "print('Done successfully.')"
   ]
  },
  {
   "cell_type": "code",
   "execution_count": null,
   "metadata": {
    "collapsed": false
   },
   "outputs": [
    {
     "name": "stdout",
     "output_type": "stream",
     "text": [
      "2016-10-28 13:45:18 ECMWF API python library 1.4.1\n",
      "2016-10-28 13:45:18 ECMWF API at https://api.ecmwf.int/v1\n",
      "2016-10-28 13:45:18 Welcome Sebastian Kiefer\n",
      "2016-10-28 13:45:18 In case of problems, please check https://software.ecmwf.int/wiki/display/WEBAPI/Troubleshooting or contact calldesk@ecmwf.int\n",
      "2016-10-28 13:45:18 In case of delays, please check the MARS service activity page http://apps.ecmwf.int/mars-activity/\n",
      "2016-10-28 13:45:18 Request submitted\n",
      "2016-10-28 13:45:18 Request id: 58133a4e61685078ed103307\n",
      "2016-10-28 13:45:18 Request is queued\n"
     ]
    }
   ],
   "source": [
    "#!/usr/bin/env py27\n",
    "\n",
    "from ecmwfapi import ECMWFDataServer\n",
    "\n",
    "import numpy as np\n",
    "import datetime as dt\n",
    "import calendar\n",
    "\n",
    "server = ECMWFDataServer()\n",
    "\n",
    "dir = \"01-data-raw/\"\n",
    "\n",
    "date_first_start = dt.date(1958, 1, 1)\n",
    "date_first_end = dt.date(1958, 1, 31)\n",
    "date_last_end = dt.date(1978, 12, 1)\n",
    "date_last_end = dt.date(1978, 12, 31)\n",
    "\n",
    "year_first = 1958\n",
    "year_last = 1978\n",
    "\n",
    "years_vec = np.arange(year_first, (year_last + 1))\n",
    "months_vec = np.arange(1, 13)\n",
    "\n",
    "\n",
    "for i in range(1):\n",
    "    for ii in range(12):\n",
    "        date_loop_start = dt.date(years_vec[i], months_vec[ii], 1)\n",
    "        month_len = calendar.monthrange(years_vec[i], months_vec[ii])[1]\n",
    "        date_loop_end = dt.date(years_vec[i], months_vec[ii], month_len)\n",
    "        date_loop = str(date_loop_start)+'/to/'+str(date_loop_end)\n",
    "        target_loop = dir+str(date_loop_start.year)+'-'+str(date_loop_start.month)+'-era40.nc'\n",
    "        \n",
    "        server.retrieve({\n",
    "            'stream'    : \"oper\",\n",
    "            'class'     : \"e4\",\n",
    "            'dataset'   : \"era40\",\n",
    "            'date'      : date_loop,\n",
    "            'time'      : \"00/06/12/18\",\n",
    "            'step'      : \"0\",\n",
    "            'type'      : \"an\",\n",
    "            'levtype'   : \"pl\",\n",
    "            'levelist'  : \"100/150/200/250/300/400/500/600/700/775/850/925/1000\",\n",
    "            'param'     : \"129.128/130.128/131.128/132.128/135.128/155.128\",\n",
    "            'grid'      : \"1.00/1.00\",\n",
    "            'target'    : target_loop,\n",
    "            'format'    : \"netcdf\"\n",
    "        })\n",
    "        \n",
    "#        print(date_loop)\n",
    "#        print(target_loop)\n",
    "\n",
    "print('Done successfully.')"
   ]
  },
  {
   "cell_type": "code",
   "execution_count": null,
   "metadata": {
    "collapsed": false
   },
   "outputs": [],
   "source": []
  }
 ],
 "metadata": {
  "anaconda-cloud": {},
  "kernelspec": {
   "display_name": "Python [conda env:py27]",
   "language": "python",
   "name": "conda-env-py27-py"
  },
  "language_info": {
   "codemirror_mode": {
    "name": "ipython",
    "version": 2
   },
   "file_extension": ".py",
   "mimetype": "text/x-python",
   "name": "python",
   "nbconvert_exporter": "python",
   "pygments_lexer": "ipython2",
   "version": "2.7.12"
  }
 },
 "nbformat": 4,
 "nbformat_minor": 1
}
